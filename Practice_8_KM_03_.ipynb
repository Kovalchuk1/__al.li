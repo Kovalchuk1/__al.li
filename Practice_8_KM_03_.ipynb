{
  "nbformat": 4,
  "nbformat_minor": 0,
  "metadata": {
    "colab": {
      "name": "Practice_7_KM-01_.ipynb",
      "provenance": [],
      "collapsed_sections": []
    },
    "kernelspec": {
      "name": "python3",
      "display_name": "Python 3"
    }
  },
  "cells": [
    {
      "cell_type": "markdown",
      "metadata": {
        "id": "FMqboNwO4rVs"
      },
      "source": [
        "# **Курс \"Програмування на мові Python\"**\n",
        "\n",
        "##### Викладачі:\n",
        "##### Борисенко Павло Борисович\n",
        "##### Щьоголєв Максим Олегович\n"
      ]
    },
    {
      "cell_type": "markdown",
      "metadata": {
        "id": "A2T6MigL5Z06"
      },
      "source": [
        "## **Практичне зайняття №8**\n",
        "\n",
        "### Тема: \"Робота з функціями. Локальні та глобальні змінні\""
      ]
    },
    {
      "cell_type": "markdown",
      "metadata": {
        "id": "cfCdgK2zXm7e"
      },
      "source": [
        "### **Завдання 1 (3 бали)**\n",
        "\n",
        "**Підрахувати визначник матриці, використовуючи перестановки та символ Леві-Чивіти.**\n",
        "\n",
        "Функція random_matrix() призначена для створення квадратної матриці випадкових чисел. Її змінювати непотрібно.\n",
        "\n",
        "Приклад використання методу permutations() для створення списку перестановок також подається у комірці з кодом.\n",
        "\n",
        "1) Створити 3 функції: функцію створення списку перестановок, функцію підрахунку добутків та функцію підрахунку загальної суми.\n",
        "\n",
        "2) Кожна функція має супроводжуватись рядком документації, що буде коротко описувати її призначення.\n",
        "\n",
        "3) Розмірність квадратної матриці має вводитись користувачем з клавіатури. Підрахунки виконувати лише в тому разі, якщо користувач введе ціле додатне число.\n",
        "\n",
        "4) Загальний результат повинен підраховуватись за допомогою композиції функцій.\n",
        "\n",
        "За бажання можна перевірити правильність роботи програми за допомогою функції np.linalg.det(a)."
      ]
    },
    {
      "cell_type": "code",
      "metadata": {
        "id": "ifNX2M7LXm7f"
      },
      "source": [
        "import numpy as np\n",
        "\n",
        "\n",
        "def better_input(number):\n",
        "    \"\"\"\n",
        "        This function checks the user input. That is, the symbol -\n",
        "         the size of the square matrix must be a natural number.\n",
        "        \"\"\"\n",
        "    flag = True\n",
        "    try:\n",
        "        while flag:\n",
        "            number = int(input())\n",
        "            if number > 0:\n",
        "                return int(number)\n",
        "            else:\n",
        "                print(\"Print number  only > 0. Numbers only! Try again\")\n",
        "    except:\n",
        "        print(\"Print number > 0. Numbers only! Try again\")\n",
        "        return better_input(number)\n",
        "\n",
        "\n",
        "x = 0\n",
        "print('Enter the size of the square matrix:')\n",
        "x = better_input(x)\n",
        "\n",
        "\n",
        "def random_matrix(dim):\n",
        "    \"\"\"\n",
        "    The function generates dim x dim array of integers\n",
        "    between 0 and 10.\n",
        "    \"\"\"\n",
        "    matrix = np.random.randint(10, size=(dim, dim))\n",
        "    return matrix\n",
        "\n",
        "\n",
        "print(random_matrix(x))\n",
        "matrix = random_matrix(x)\n",
        "\n",
        "\n",
        "def det2(matrix):\n",
        "    return matrix[0][0] * matrix[1][1] - matrix[0][1] * matrix[1][0]\n",
        "\n",
        "\n",
        "def minor(matrix, i, j):\n",
        "    \"\"\"\n",
        "        A minor of the matrix element is evaluated by taking the determinant\n",
        "        of a submatrix created by deleting the elements in the same row\n",
        "        and column as that element\n",
        "        \"\"\"\n",
        "    tmp = [row for k, row in enumerate(matrix) if k != i]\n",
        "    tmp = [col for k, col in enumerate(zip(*tmp)) if k != j]\n",
        "    return tmp\n",
        "\n",
        "\n",
        "def determinant(matrix):\n",
        "    \"\"\"\n",
        "         This function helps us to calculate the determinant of this matrix\n",
        "            \"\"\"\n",
        "    size = len(matrix)\n",
        "    if size == 2:\n",
        "        return det2(matrix)\n",
        "\n",
        "    return sum((-1) ** j * matrix[0][j] * determinant(minor(matrix, 0, j))\n",
        "               for j in range(size))\n",
        "\n",
        "\n",
        "m = matrix\n",
        "print('Det(matrix):', determinant(m))\n",
        "\n",
        "\n",
        "computer_det = np.linalg.det(m)\n",
        "print('Check det(A):', (round(computer_det, 5)))\n"
      ],
      "execution_count": null,
      "outputs": []
    }
  ]
}