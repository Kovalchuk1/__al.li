{
  "nbformat": 4,
  "nbformat_minor": 0,
  "metadata": {
    "colab": {
      "name": "Practice_7_KM-01_.ipynb",
      "provenance": [],
      "collapsed_sections": []
    },
    "kernelspec": {
      "name": "python3",
      "display_name": "Python 3"
    }
  },
  "cells": [
    {
      "cell_type": "markdown",
      "metadata": {
        "id": "FMqboNwO4rVs"
      },
      "source": [
        "# **Курс \"Програмування на мові Python\"**\n",
        "\n",
        "##### Викладачі:\n",
        "##### Борисенко Павло Борисович\n",
        "##### Щьоголєв Максим Олегович\n"
      ]
    },
    {
      "cell_type": "markdown",
      "metadata": {
        "id": "A2T6MigL5Z06"
      },
      "source": [
        "## **Практичне зайняття №9**\n",
        "\n",
        "### Тема: \"Лямбда-функції. Функції вищих порядків\""
      ]
    },
    {
      "cell_type": "markdown",
      "metadata": {
        "id": "cfCdgK2zXm7e"
      },
      "source": [
        "### **Завдання 1 (1 бал)**\n",
        "\n",
        "Продавець роздрібного товару влаштовує розпродаж. Для всіх товарів знижка однакова - 60%. Щоб вивісити нові цінники, продавець хоче скласти таблицю, в якій для кожного товару буде підрахована його нова вартість та сума знижки.\n",
        "\n",
        "Написати програму, яка буде генерувати таку таблицю. Вартість одиниць товарів до розпродажу подано у списку products_list. \n",
        "\n",
        "1. Для підрахунку невідомих значень повинні використовуватись вбудовані функції вищих порядків.\n",
        "\n",
        "2. Вартість з урахуванням знижки та суми знижок для кожного товару повинні зберігатись у двох окремих списках. Порядок товарів у нових списках повинен бути такий самий, як і в списку products_list.\n",
        "\n",
        "3. Кожне підраховане числове значення має бути округлене до сотих.\n",
        "\n",
        "4. Дані повинні виводитись у вигляді:\n",
        "\n",
        "**Discount table:**\n",
        "\n",
        "**29.25 11.7 17.55**\n",
        "\n",
        "**48.99 19.6 29.39**\n",
        "\n",
        "**...**\n",
        "\n",
        "\n",
        "products_list = [[29.25, 48.99, 99.98, 124.65, 214.30, 543.90, 799.85]]\n"
      ]
    },
    {
      "cell_type": "code",
      "metadata": {
        "id": "ifNX2M7LXm7f"
      },
      "source": [
        "products_list = [29.25, 48.99, 99.98, 124.65, 214.30, 543.90, 799.85]\n",
        "\n",
        "list1 = list(map(lambda x: round(x * 0.6, 2), products_list))\n",
        "list2 = list(map(lambda x: round(x - x * 0.6, 2), products_list))\n",
        "\n",
        "print(\"Discount table:\")\n",
        "for i in range(len(products_list)):\n",
        "    print(products_list[i], list2[i], list1[i])"
      ],
      "execution_count": null,
      "outputs": []
    },
    {
      "source": [
        "### **Завдання 2 (2 бали)**\n",
        "\n",
        "Зазвичай рік має 365 днів. Однак у високосні роки додається ще один день - 29 лютого. Правила визначення високосного року такі:\n",
        "\n",
        "- Будь-який рік, що ділиться на 400 - високосний.\n",
        "\n",
        "- З тих років, що залишились, будь-який рік, що ділиться на 100 - **не** високосний.\n",
        "\n",
        "- З тих років, що залишились, будь-який рік, що ділиться на 4 - високосний.\n",
        "\n",
        "- Усі інші роки, що залишились - **не** високосні.\n",
        "\n",
        "1) Створіть функцію, в якій за допомогою вбудованих функцій вищих порядків будуть визначатися високосні роки серед перелічених років у списку years. Створена функція має повертати список високосних років.\n",
        "\n",
        "2) Створіть функцію вищих порядків, яка прийматиме на вхід попередню функцію та визначатиме кількість днів у місяці. Також функція повинна приймати на вхід ще 2 параметри: ціле число від 1 до 12 (місяць) та рік, як ціле чотирицифрове число. Ці значення корисувач має вводити з клавіатури. Перевірку введених даних слід виконувати поза межами функцій."
      ],
      "cell_type": "markdown",
      "metadata": {}
    },
    {
      "cell_type": "code",
      "execution_count": null,
      "metadata": {},
      "outputs": [],
      "source": [
        "import numpy as np\n",
        "\n",
        "years = np.arange(1920, 2020 + 1, 1)\n",
        "print(\"Years:\\n\", years)\n",
        "\n",
        "\n",
        "\n",
        "def leap_year(i):\n",
        "    return i % 400 == 0 or i % 4 == 0\n",
        "\n",
        "\n",
        "\n",
        "d = list(filter(leap_year, years))\n",
        "print(\"Leap years:\\n\", d)\n",
        "\n",
        "even = [1, 3, 5, 7, 8, 10, 12] \n",
        "odd = [4, 6, 9, 11]  \n",
        "\n",
        "\n",
        "\n",
        "def amount_of_days(month, year, leap_year):\n",
        "    if month in even:\n",
        "        return \"31\"\n",
        "    elif month in odd:\n",
        "        return \"30\"\n",
        "    elif leap_year(year):\n",
        "        return \"29\"\n",
        "    elif not leap_year(year):\n",
        "        return \"28\"\n",
        "\n",
        "\n",
        "\n",
        "def checker1(text):\n",
        "    val = input(text)\n",
        "    while type(val) != int:\n",
        "        try:\n",
        "            if int(val) > 12 or int(val) < 1:\n",
        "                val = \"a\"\n",
        "            val = int(val)\n",
        "        except:\n",
        "            val = input(\"Enter a month value (1-12):\\n\")\n",
        "    return int(val)\n",
        "\n",
        "\n",
        "def checker2(text):\n",
        "    val = input(text)\n",
        "    while type(val) != int:\n",
        "        try:\n",
        "            if int(val) > years[len(years) - 1] or int(val) < years[0]:\n",
        "                val = \"a\"\n",
        "            val = int(val)\n",
        "        except:\n",
        "            val = input(f\"Enter an year value (1920-2020):\\n\")\n",
        "    return int(val)\n",
        "\n",
        "\n",
        "\n",
        "month = checker1(\"Enter number of the month:\\n\")\n",
        "year = checker2(\"Enter number of the year:\\n\")\n",
        "days = amount_of_days(month, year, leap_year)\n",
        "print(days, \"days\")"
      ]
    }
  ]
}