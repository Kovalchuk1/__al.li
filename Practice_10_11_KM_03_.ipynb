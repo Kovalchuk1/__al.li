{
  "nbformat": 4,
  "nbformat_minor": 0,
  "metadata": {
    "colab": {
      "name": "Practice_10-11_KM_01_.ipynb",
      "provenance": [],
      "collapsed_sections": []
    },
    "kernelspec": {
      "name": "python3",
      "display_name": "Python 3"
    }
  },
  "cells": [
    {
      "cell_type": "markdown",
      "metadata": {
        "id": "FMqboNwO4rVs"
      },
      "source": [
        "# **Курс \"Програмування на мові Python\"**\n",
        "\n",
        "##### Викладачі:\n",
        "##### Борисенко Павло Борисович\n",
        "##### Щьоголєв Максим Олегович\n"
      ]
    },
    {
      "cell_type": "markdown",
      "metadata": {
        "id": "A2T6MigL5Z06"
      },
      "source": [
        "## **Практичні зайняття №10-11**\n",
        "\n",
        "### Тема: \"Ітератори та генератори. Декоратори\""
      ]
    },
    {
      "cell_type": "markdown",
      "metadata": {
        "id": "cfCdgK2zXm7e"
      },
      "source": [
        "### **Завдання 1 (2 бали)**\n",
        "\n",
        "Розрахуйте коефієнти розкладу біному Ньютона за допомогою генератора (https://uk.wikipedia.org/wiki/%D0%91%D1%96%D0%BD%D0%BE%D0%BC_%D0%9D%D1%8C%D1%8E%D1%82%D0%BE%D0%BD%D0%B0).\n",
        "\n",
        "1. Степінь многочлена користувач має вводити з клавіатури (невід'ємне ціле число).\n",
        "\n",
        "2. Програма має підраховувати біноміальні коефіцієнти для біномів усіх степенів, починаючи від 0 і закінчуючи тим, який ввів користувач.\n",
        "\n",
        "3. Коефіцієнти мають виводитись у вигляді трикутника Паскаля.\n",
        "\n",
        "Наприклад, якщо користувач введе число 5, програма має вивести результат:\n",
        "\n",
        "1\n",
        "\n",
        "1 1\n",
        "\n",
        "1 2 1\n",
        "\n",
        "1 3 3 1\n",
        "\n",
        "1 4 6 4 1\n",
        "\n",
        "1 5 10 10 5 1\n"
      ]
    },
    {
      "cell_type": "code",
      "metadata": {
        "id": "Bku8v9CjE_Qc"
      },
      "source": [
        "def better_input(number):\n",
        "    flag = True\n",
        "    try:\n",
        "        while flag:\n",
        "            number = int(input())\n",
        "            if number >= 0:\n",
        "                return int(number)\n",
        "            else:\n",
        "                print(\"Упс. Допистипі символи - натуральні числа. Спробуйте знову!\")\n",
        "    except:\n",
        "        print(\"Упс. Допистипі символи - натуральні числа. Спробуйте знову!\")\n",
        "        return better_input(number)\n",
        "\n",
        "print(' Введіть значення( (а+b)^n ) n, щоб розрахувати коефієнти (розклад біному Ньютона)')\n",
        "count = 0\n",
        "count = better_input(count)\n",
        "\n",
        "\n",
        "def gen_numbers():\n",
        "\n",
        "    a = [1]\n",
        "    for i in range(count):\n",
        "        print(*a)\n",
        "        b = [1]\n",
        "        b += [a[k] + a[k + 1] for k in range(len(a) - 1)] + [1]\n",
        "        a = b\n",
        "    yield ' '.join(map(str, a))\n",
        "\n",
        "\n",
        "gen = gen_numbers()\n",
        "print(next(gen))\n"
      ],
      "execution_count": null,
      "outputs": []
    },
    {
      "cell_type": "markdown",
      "metadata": {
        "id": "oqXwIz3iuPRe"
      },
      "source": [
        "### **Завдання 2 (4 бали)**\n",
        "\n",
        "Більшість друкованих книг (особливо це стосується книг у твердій палітурці) складаються із зошитів. Припустимо, що в друкарні текст друкується на листах паперу удвічі більших за звичайний книжковий формат. Потім ці листи складаються вдвічі, з них формуються зошити, які потім зшиваються у блок. Зшиті зошити зазвичай складаються з 8, 12 або 16 листів (відповідно 16, 24 або 32 сторінок) кожен.\n",
        "\n",
        "Розглянемо конкретний приклад. \n",
        "\n",
        "Припустимо, що кожен зшитий зошит нашої книги складається з 8 листів (16 сторінок). Якщо уявити великі листи, з яких потім складаються зошити, то на кожному таком листі буде по 4 сторінки книги. У нашій книзі таких великих листів буде 4. Розглянемо перший лист. З одного боку на ньому будуть надруковані сторінки 16 та 1, з іншого - 2 та 15. На другому листі з одного боку будуть надруковані сторінки 14 та 3, з іншого - 4 та 13.\n",
        "\n",
        "**Написати програму, яка визначатиме послідовність сторінок, що будуть надруковані на кожному великому листі.**\n",
        "\n",
        "1. Користувач має вводити з клавіатури три значення: кількість сторінок у книзі (не більше 1280), кількість сторінок у кожному зошиті цієї книги (потрібно буде обрати один з трьох варіантів: 16, 24 або 32) та параметр 0 або 1 (пояснення у п. 5).\n",
        "\n",
        "2. Зверніть увагу на те, що загальна кількість сторінок у книзі має бути кратною кількості сторінок у зошиті. Якщо користувач введе число, що не задовольняє цій умові, програма повинна припинити роботу або запропонувати користувачеві ввесте інше значення. Зауважте також, що 1280 не ділиться на 24.\n",
        "\n",
        "3. Зверніть увагу на те, що на великих листах поворот аркуша відбувається за коротким краєм. Отже, якщо з одного боку аркуша надруковано сторінки 16 та 1, то з іншого 2 та 15 (а не 15, 2), якщо дивитись зліва направо.\n",
        "\n",
        "4. Функція, яка визначатиме послідовність книжкових сторінок, має виводити на екран рядок за рядком номери сторінок кожного зошита, а також кількість зошитів у книзі.\n",
        "\n",
        "5. Створіть функцію-декоратор, яка прийматиме на вхід параметр 0 або 1, конвертований у False або True відповідно, та навісьте його на попередню функцію. Якщо параметр дорівнює False, додаткові функції декоратора не повинні виконуватись, тобто має виконатись лише функція з п. 4. Декоратор повинен створювати список усіх сторінок у потрібній послідовності, причому номери сторінок кожного зошита мають зберігатись в окремому вкладеному списку. Для 16-сторінкового зошита список повинен мати вигляд:\n",
        "\n",
        "`[[16, 1, 2, 15, 14, 3, 4, 13, ..., 10, 7, 8, 9], [32, 17, 18, 31, ...], ... ]`\n",
        "\n",
        "**Бонусне завдання (за бажанням)**\n",
        "\n",
        "6. Замість функції з п. 4 створіть генератор, який буде визначати послідовність книжкових сторінок для кожного зошита. Ці рядки можна потім вивести або у циклі, або за допомогою функції next(). Функція-декоратор має працювати з цим генератором так само, як і зі звичайною функцією."
      ]
    },
    {
      "cell_type": "code",
      "metadata": {
        "id": "yiRr2CqMWxLA"
      },
      "source": [
        "def f_decorator(function_to_decorate):\n",
        "    def the_wrapper_around_the_original_function():\n",
        "        function_to_decorate()\n",
        "        option = bool(int(input('\\nEnter the value of option, available values: 0/1: ')))\n",
        "        if option:\n",
        "            global full_list\n",
        "            print()\n",
        "            print(full_list)\n",
        "\n",
        "    return the_wrapper_around_the_original_function\n",
        "\n",
        "\n",
        "def repeatApp():\n",
        "    t = True\n",
        "    while t:\n",
        "        num_pages = int(input('Enter the number of pages in textbook, available values <= 1280: '))\n",
        "        if 1 <= num_pages <= 1280:\n",
        "            break\n",
        "    while t:\n",
        "        pages_copybook = int(input('Enter the number of pages in copybook, available values: 16/ 24/ 32: '))\n",
        "        if pages_copybook == 16 and num_pages % pages_copybook == 0:\n",
        "            break\n",
        "        elif pages_copybook == 24 and num_pages % pages_copybook == 0:\n",
        "            break\n",
        "        elif pages_copybook == 32 and num_pages % pages_copybook == 0:\n",
        "            break\n",
        "\n",
        "    num_lists = pages_copybook // 2\n",
        "    quantity_of_copybooks = num_pages // pages_copybook\n",
        "\n",
        "    global full_list\n",
        "\n",
        "    for i in range(quantity_of_copybooks):\n",
        "\n",
        "        first_list_in_copybook = i * num_lists + 1\n",
        "        last_list_in_copybook = first_list_in_copybook + num_lists - 1\n",
        "        delta = 0\n",
        "        list_copybook = []\n",
        "        for x in range(num_lists // 2):\n",
        "            if x % 2 == 0:\n",
        "                list_copybook.append(last_list_in_copybook - delta)\n",
        "                list_copybook.append(first_list_in_copybook + delta)\n",
        "            else:\n",
        "                list_copybook.append(first_list_in_copybook + delta)\n",
        "                list_copybook.append(last_list_in_copybook - delta)\n",
        "            delta += 1\n",
        "        full_list.append(list_copybook)\n",
        "\n",
        "    for x in range(quantity_of_copybooks):\n",
        "        print('\\nList #' + str(x + 1) + ':')\n",
        "        print(full_list[x])\n",
        "\n",
        "\n",
        "\n",
        "full_list = []\n",
        "repeatApp = f_decorator(repeatApp)\n",
        "repeatApp()"
      ],
      "execution_count": null,
      "outputs": []
    }
  ]
}