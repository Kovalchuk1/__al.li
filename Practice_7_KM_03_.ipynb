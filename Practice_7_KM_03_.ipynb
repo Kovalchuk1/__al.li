{
  "nbformat": 4,
  "nbformat_minor": 0,
  "metadata": {
    "colab": {
      "name": "Practice_7_KM-01_.ipynb",
      "provenance": [],
      "collapsed_sections": []
    },
    "kernelspec": {
      "name": "python3",
      "display_name": "Python 3"
    }
  },
  "cells": [
    {
      "cell_type": "markdown",
      "metadata": {
        "id": "FMqboNwO4rVs"
      },
      "source": [
        "# **Курс \"Програмування на мові Python\"**\n",
        "\n",
        "##### Викладачі:\n",
        "##### Борисенко Павло Борисович\n",
        "##### Щьоголєв Максим Олегович\n"
      ]
    },
    {
      "cell_type": "markdown",
      "metadata": {
        "id": "A2T6MigL5Z06"
      },
      "source": [
        "## **Практичне зайняття №7**\n",
        "\n",
        "### Тема: \"Перевірка даних. Робота з виключеннями. Регулярні вирази\""
      ]
    },
    {
      "cell_type": "markdown",
      "metadata": {
        "id": "cfCdgK2zXm7e"
      },
      "source": [
        "### **Завдання 1 (1,5 бали)**\n",
        "\n",
        "Переробити завдання №1 практичної роботи №6 з використанням регулярних виразів.\n",
        "\n",
        "1. Створити шаблон регулярного виразу.\n",
        "\n",
        "2. За допомогою функції compile() створити об'єкт регулярного виразу.\n",
        "\n",
        "3. Всі інші вимоги залишаються такими ж, як і в оригінальному завданні."
      ]
    },
    {
      "cell_type": "code",
      "metadata": {
        "id": "ifNX2M7LXm7f"
      },
      "source": [
        "import re\n",
        "\n",
        "pose_estimation = \"[BodyPart:0-(0.55, 0.17) score=0.81 BodyPart:1-(0.49, 0.27) score=0.85 BodyPart:2-(0.41, 0.26) score=0.67 BodyPart:3-(0.33, 0.37) score=0.72 BodyPart:4-(0.36, 0.48) score=0.78 BodyPart:5-(0.58, 0.27) score=0.81 BodyPart:6-(0.65, 0.38) score=0.88 BodyPart:7-(0.62, 0.48) score=0.86 BodyPart:8-(0.43, 0.48) score=0.60 BodyPart:9-(0.43, 0.66) score=0.67 BodyPart:10-(0.53, 0.79) score=0.56 BodyPart:11-(0.53, 0.48) score=0.56 BodyPart:12-(0.59, 0.66) score=0.75 BodyPart:13-(0.49, 0.80) score=0.50 BodyPart:14-(0.54, 0.15) score=0.73 BodyPart:15-(0.56, 0.15) score=0.85 BodyPart:16-(0.48, 0.16) score=0.81 BodyPart:17-(0.83, 0.18) score=0.79]\"\n",
        "new_pattern = '\\d\\.\\d{2}\\,\\s*\\d\\.\\d{2}'\n",
        "pattern = '\\=\\d\\.\\d{2}'\n",
        "points = []\n",
        "\n",
        "regexp_new = re.compile(new_pattern)\n",
        "regexp = re.compile(pattern)\n",
        "\n",
        "lst = re.findall(regexp_new, pose_estimation)\n",
        "scores = re.findall(regexp, pose_estimation)\n",
        "\n",
        "for x in lst:\n",
        "    first, second = map(float, x.split(','))\n",
        "    points.append(first)\n",
        "    points.append(second)\n",
        "\n",
        "scores = [float(x[1:]) for x in scores]\n",
        "\n",
        "print('points = [' + ','.join(map(str, points)) + ']')\n",
        "print('scores = [' + ','.join(map(str, scores)) + ']')\n"
      ],
      "execution_count": 2,
      "outputs": []
    },
    {
      "cell_type": "markdown",
      "metadata": {
        "id": "M1Sg0vXJXm7n"
      },
      "source": [
        "### **Завдання 2 (1,5 бали)**\n",
        "\n",
        "Написати програму підрахунку коренів квадратного рівняння без попередніх перевірок.\n",
        "\n",
        "1. Користувач має вводити коефіцієнти a, b та c з клавіатури.\n",
        "\n",
        "2. Програма має обробляти помилки ділення на 0, кореня від'ємного числа та інші, а також виводити відповідні повідомлення у разі виникнення таких помилок.\n",
        "\n",
        "3. Якщо рівняння не має коренів, программа має генерувати помилку за допомогою ключового слова raise, а потім обробляти її.\n",
        "\n",
        "4. Правильно написана програма при виникненні різних помилок має виводити текст помилки, а також різні повідомлення про те, в чому суть цих помилок. Необроблених помилок бути не повинно."
      ]
    },
    {
      "cell_type": "code",
      "metadata": {
        "id": "co7fcAuvXm7o"
      },
      "source": [
        "import math\n",
        "\n",
        "print(\"Enter the coefficients for the quadratic equation(ax^2 + bx + c = 0):\")\n",
        "try:\n",
        "    a = float(input(\"a = \"))\n",
        "    b = float(input(\"b = \"))\n",
        "    c = float(input(\"c = \"))\n",
        "    d = b ** 2 - 4 * a * c\n",
        "    if d < 0:\n",
        "        raise ValueError('There must be a discriminator > 0!')\n",
        "    elif d == 0:\n",
        "        x = -b / (2 * a)\n",
        "        print(\"x = %.2f\" % x)\n",
        "    else:\n",
        "        x_1 = (-b + math.sqrt(d)) / (2 * a)\n",
        "        x_2 = (-b - math.sqrt(d)) / (2 * a)\n",
        "        print(\"x1 = %.2f \\nx2 = %.2f\" % (x_1, x_2))\n",
        "\n",
        "\n",
        "except ValueError as error:\n",
        "    print(error)\n",
        "except ZeroDivisionError as error_2:\n",
        "    print(error_2)\n",
        "except ArithmeticError as error_3:\n",
        "    print(error_3)\n"
      ],
      "execution_count": 4,
      "outputs": []
    }
  ]
}